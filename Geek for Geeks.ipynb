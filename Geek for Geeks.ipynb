{
 "cells": [
  {
   "cell_type": "markdown",
   "metadata": {},
   "source": [
    "# STRINGS"
   ]
  },
  {
   "cell_type": "code",
   "execution_count": 1,
   "metadata": {},
   "outputs": [],
   "source": [
    "#Python program to check if a string is palindrome or not"
   ]
  },
  {
   "cell_type": "code",
   "execution_count": 7,
   "metadata": {},
   "outputs": [
    {
     "name": "stdout",
     "output_type": "stream",
     "text": [
      "enter string: harsh\n"
     ]
    },
    {
     "data": {
      "text/plain": [
       "'not pallindrome'"
      ]
     },
     "execution_count": 7,
     "metadata": {},
     "output_type": "execute_result"
    }
   ],
   "source": [
    "def pallin_word(pallin):\n",
    "    if pallin==pallin[::-1]:\n",
    "        return \"pallindrome\"\n",
    "    else:\n",
    "        return \"not pallindrome\"\n",
    "    \n",
    "pa = str(input(\"enter string: \"))\n",
    "pallin_word(pa)\n",
    "\n"
   ]
  },
  {
   "cell_type": "code",
   "execution_count": 33,
   "metadata": {},
   "outputs": [],
   "source": [
    "#Python program to check whether the string is Symmetrical or Palindrome"
   ]
  },
  {
   "cell_type": "code",
   "execution_count": 32,
   "metadata": {},
   "outputs": [
    {
     "name": "stdout",
     "output_type": "stream",
     "text": [
      "enter string: ababc\n"
     ]
    },
    {
     "data": {
      "text/plain": [
       "'neither symm nor pallin'"
      ]
     },
     "execution_count": 32,
     "metadata": {},
     "output_type": "execute_result"
    }
   ],
   "source": [
    "def pallinandsymm(string):\n",
    "    if string == string[::-1]:\n",
    "        return \"pallindrome string\"\n",
    "    else:\n",
    "        str2 = string\n",
    "        length = len(string)\n",
    "        middle_c = int(length/2)\n",
    "        first_half = string[0:middle_c] \n",
    "        second_half = string[middle_c:length]\n",
    "        if first_half == second_half:\n",
    "            return \"symmetrical string\"\n",
    "        else:\n",
    "            return \"neither symm nor pallin\"\n",
    "        \n",
    "inp = str(input(\"enter string: \"))\n",
    "pallinandsymm(inp)\n",
    "    "
   ]
  },
  {
   "cell_type": "code",
   "execution_count": 34,
   "metadata": {},
   "outputs": [],
   "source": [
    "#Reverse words in a given String in Python\n"
   ]
  },
  {
   "cell_type": "code",
   "execution_count": 38,
   "metadata": {},
   "outputs": [
    {
     "name": "stdout",
     "output_type": "stream",
     "text": [
      "enter sentence: ny name is harsh\n",
      "yn eman si hsrah "
     ]
    }
   ],
   "source": [
    "def reverse_words(words):\n",
    "    return words[::-1]\n",
    "\n",
    "input_string = str(input(\"enter sentence: \"))\n",
    "split_string = input_string.split(\" \")\n",
    "for key,value in enumerate(split_string):\n",
    "    print(reverse_words(value), end=' ')\n"
   ]
  },
  {
   "cell_type": "code",
   "execution_count": 39,
   "metadata": {},
   "outputs": [],
   "source": [
    "#Ways to remove i’th character from string in Python"
   ]
  },
  {
   "cell_type": "code",
   "execution_count": 69,
   "metadata": {},
   "outputs": [
    {
     "name": "stdout",
     "output_type": "stream",
     "text": [
      "hrsh\n"
     ]
    }
   ],
   "source": [
    "def remove_character(string,j):\n",
    "    return string.replace(string[j-1],\"\")\n",
    "    \n",
    "print(remove_character(\"harsh\",2))\n",
    "    "
   ]
  },
  {
   "cell_type": "code",
   "execution_count": 47,
   "metadata": {},
   "outputs": [
    {
     "data": {
      "text/plain": [
       "'h'"
      ]
     },
     "execution_count": 47,
     "metadata": {},
     "output_type": "execute_result"
    }
   ],
   "source": [
    "ha = \"harsh\"\n",
    "ha[0]"
   ]
  },
  {
   "cell_type": "code",
   "execution_count": 52,
   "metadata": {},
   "outputs": [
    {
     "data": {
      "text/plain": [
       "'hrsh'"
      ]
     },
     "execution_count": 52,
     "metadata": {},
     "output_type": "execute_result"
    }
   ],
   "source": [
    "ha.replace('a',\"\")"
   ]
  },
  {
   "cell_type": "code",
   "execution_count": 70,
   "metadata": {},
   "outputs": [],
   "source": [
    "#Python | Check if a Substring is Present in a Given String"
   ]
  },
  {
   "cell_type": "code",
   "execution_count": 77,
   "metadata": {},
   "outputs": [
    {
     "name": "stdout",
     "output_type": "stream",
     "text": [
      "enter sentence: my name is harsh\n",
      "enter substring that has to find: harsh\n",
      "substring found  harsh position  3\n"
     ]
    }
   ],
   "source": [
    "# def check_substring(sentence,sub):\n",
    "#     if sub == sentence[i]:\n",
    "#         return \"substring found\"\n",
    "#     else:\n",
    "#         return \"substring not found\"\n",
    "    \n",
    "sen = str(input(\"enter sentence: \"))\n",
    "substring = str(input(\"enter substring that has to find: \"))\n",
    "list_sub = sen.split(\" \")\n",
    "for key,value in enumerate(list_sub):\n",
    "    if list_sub[key]==substring:\n",
    "        print(\"substring found \",substring,\"position \",key)\n",
    "    else:\n",
    "        pass\n",
    "\n",
    "\n",
    "        "
   ]
  },
  {
   "cell_type": "code",
   "execution_count": 78,
   "metadata": {},
   "outputs": [],
   "source": [
    "#Python – Words Frequency in String Shorthands"
   ]
  },
  {
   "cell_type": "code",
   "execution_count": null,
   "metadata": {},
   "outputs": [],
   "source": [
    "def word_frequency(wordf):\n",
    "    "
   ]
  },
  {
   "cell_type": "code",
   "execution_count": null,
   "metadata": {},
   "outputs": [],
   "source": []
  },
  {
   "cell_type": "code",
   "execution_count": null,
   "metadata": {},
   "outputs": [],
   "source": []
  },
  {
   "cell_type": "code",
   "execution_count": null,
   "metadata": {},
   "outputs": [],
   "source": []
  },
  {
   "cell_type": "code",
   "execution_count": null,
   "metadata": {},
   "outputs": [],
   "source": []
  },
  {
   "cell_type": "code",
   "execution_count": null,
   "metadata": {},
   "outputs": [],
   "source": []
  },
  {
   "cell_type": "code",
   "execution_count": null,
   "metadata": {},
   "outputs": [],
   "source": []
  }
 ],
 "metadata": {
  "kernelspec": {
   "display_name": "Python 3",
   "language": "python",
   "name": "python3"
  },
  "language_info": {
   "codemirror_mode": {
    "name": "ipython",
    "version": 3
   },
   "file_extension": ".py",
   "mimetype": "text/x-python",
   "name": "python",
   "nbconvert_exporter": "python",
   "pygments_lexer": "ipython3",
   "version": "3.8.5"
  }
 },
 "nbformat": 4,
 "nbformat_minor": 4
}
