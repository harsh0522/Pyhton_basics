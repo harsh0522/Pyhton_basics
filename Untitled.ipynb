{
 "cells": [
  {
   "cell_type": "markdown",
   "metadata": {},
   "source": [
    "###  Q1 Write a function named mid that takes a string as its parameter. Your function should extract and return the middle letter. If there is no middle letter, your function should return the empty string.\n",
    "### For example, mid(\"abc\") should return \"b\" and mid(\"aaaa\") should return \"\"."
   ]
  },
  {
   "cell_type": "code",
   "execution_count": 14,
   "metadata": {},
   "outputs": [
    {
     "name": "stdout",
     "output_type": "stream",
     "text": [
      "\n"
     ]
    }
   ],
   "source": [
    "import math\n",
    "def mid(s):\n",
    "    l = list(s)\n",
    "    length = len(l)\n",
    "    if length%2 != 0:\n",
    "        return l[math.floor(length/2)]\n",
    "    else:\n",
    "        return ''\n",
    "a = mid(\"harshi\")\n",
    "print(a)"
   ]
  },
  {
   "cell_type": "markdown",
   "metadata": {},
   "source": [
    "### Q2 Write a function named add_dots that takes a string and adds \".\" in between each letter. For example, calling add_dots(\"test\") should return the string \"t.e.s.t\". Then, below the add_dots function, write another function named remove_dots that removes all dots from a string. For example, calling remove_dots(\"t.e.s.t\") should return \"test\".If both functions are correct, calling remove_dots(add_dots(string)) should return back the original string for any string.\n",
    "\n"
   ]
  },
  {
   "cell_type": "code",
   "execution_count": 70,
   "metadata": {},
   "outputs": [
    {
     "name": "stdout",
     "output_type": "stream",
     "text": [
      "P.E.K.K.A\n"
     ]
    }
   ],
   "source": [
    "def add_dot(ss):\n",
    "    l = list(ss)\n",
    "    a = ''\n",
    "    for i in range(1,len(l)+3,2):\n",
    "        l.insert(i,'.')\n",
    "    a = ''.join(l)\n",
    "    return a\n",
    "\n",
    "b = add_dot(\"PEKKA\")\n",
    "print(b)\n",
    "\n",
    "    "
   ]
  },
  {
   "cell_type": "code",
   "execution_count": 82,
   "metadata": {},
   "outputs": [
    {
     "name": "stdout",
     "output_type": "stream",
     "text": [
      "harsh\n"
     ]
    }
   ],
   "source": [
    "def remove_dot(str1):\n",
    "    aa=''\n",
    "    ll = str1.split('.')\n",
    "    aa=''.join(ll)\n",
    "    return aa\n",
    "\n",
    "bb=remove_dot(\"h.a.r.s.h\")\n",
    "print(bb)"
   ]
  },
  {
   "cell_type": "code",
   "execution_count": 83,
   "metadata": {},
   "outputs": [
    {
     "name": "stdout",
     "output_type": "stream",
     "text": [
      "harsh\n"
     ]
    }
   ],
   "source": [
    "def add_dot(ss):\n",
    "    l = list(ss)\n",
    "    a = ''\n",
    "    for i in range(1,len(l)+3,2):\n",
    "        l.insert(i,'.')\n",
    "    a = ''.join(l)\n",
    "    return a\n",
    "\n",
    "\n",
    "def remove_dot(str1):\n",
    "    aa=''\n",
    "    ll = str1.split('.')\n",
    "    aa=''.join(ll)\n",
    "    return aa\n",
    "\n",
    "\n",
    "b = remove_dot(add_dot(\"harsh\"))\n",
    "print(b)"
   ]
  },
  {
   "cell_type": "markdown",
   "metadata": {},
   "source": [
    "### Q3 Define a function named up_down that takes a single number as its parameter. Your function return a tuple containing two numbers; the first should be one lower than the parameter, and the second should be one higher.\n",
    "### For example, calling up_down(5) should return (4, 6)."
   ]
  },
  {
   "cell_type": "code",
   "execution_count": 87,
   "metadata": {},
   "outputs": [
    {
     "name": "stdout",
     "output_type": "stream",
     "text": [
      "(4, 6)\n"
     ]
    }
   ],
   "source": [
    "def up_down(num):\n",
    "    b = list([num-1,num+1])\n",
    "    c = tuple(b)\n",
    "    print(c)\n",
    "    \n",
    "up_down(5)\n",
    "    "
   ]
  },
  {
   "cell_type": "markdown",
   "metadata": {},
   "source": [
    "### Q4 Define a function named convert that takes a list of numbers as its only parameter and returns a list of each number converted to a string.\n",
    "### For example, the call convert([1, 2, 3]) should return [\"1\", \"2\", \"3\"]."
   ]
  },
  {
   "cell_type": "code",
   "execution_count": 90,
   "metadata": {},
   "outputs": [
    {
     "name": "stdout",
     "output_type": "stream",
     "text": [
      "['1', '2', '3']\n"
     ]
    }
   ],
   "source": [
    "def convert(list_number):\n",
    "    for i in range(0,len(list_number)):\n",
    "        list_number[i] = str(list_number[i])\n",
    "    return(list_number)\n",
    "    \n",
    "list_to_str = convert([1,2,3])\n",
    "print(list_to_str)        "
   ]
  },
  {
   "cell_type": "code",
   "execution_count": null,
   "metadata": {},
   "outputs": [],
   "source": []
  },
  {
   "cell_type": "code",
   "execution_count": null,
   "metadata": {},
   "outputs": [],
   "source": []
  },
  {
   "cell_type": "code",
   "execution_count": null,
   "metadata": {},
   "outputs": [],
   "source": []
  },
  {
   "cell_type": "code",
   "execution_count": null,
   "metadata": {},
   "outputs": [],
   "source": []
  },
  {
   "cell_type": "code",
   "execution_count": null,
   "metadata": {},
   "outputs": [],
   "source": []
  },
  {
   "cell_type": "code",
   "execution_count": null,
   "metadata": {},
   "outputs": [],
   "source": []
  },
  {
   "cell_type": "code",
   "execution_count": null,
   "metadata": {},
   "outputs": [],
   "source": []
  }
 ],
 "metadata": {
  "kernelspec": {
   "display_name": "Python 3",
   "language": "python",
   "name": "python3"
  },
  "language_info": {
   "codemirror_mode": {
    "name": "ipython",
    "version": 3
   },
   "file_extension": ".py",
   "mimetype": "text/x-python",
   "name": "python",
   "nbconvert_exporter": "python",
   "pygments_lexer": "ipython3",
   "version": "3.8.5"
  }
 },
 "nbformat": 4,
 "nbformat_minor": 4
}
